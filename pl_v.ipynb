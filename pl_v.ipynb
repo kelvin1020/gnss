{
 "cells": [
  {
   "cell_type": "code",
   "execution_count": 1,
   "metadata": {},
   "outputs": [
    {
     "data": {
      "text/plain": [
       "<matplotlib.patches.FancyArrow at 0x7f97cd2577b8>"
      ]
     },
     "execution_count": 1,
     "metadata": {},
     "output_type": "execute_result"
    },
    {
     "data": {
      "image/png": "[encoded data removed]",
      "text/plain": [
       "<Figure size 432x288 with 1 Axes>"
      ]
     },
     "metadata": {},
     "output_type": "display_data"
    }
   ],
   "source": [
    "%matplotlib inline\n",
    "\n",
    "from mpl_toolkits.basemap import Basemap\n",
    "import matplotlib.pyplot as plt\n",
    "import numpy as np\n",
    "import math\n",
    "\n",
    "# 新建地图\n",
    "#map = Basemap(llcrnrlon = 75, llcrnrlat = 5, urcrnrlon = 140, urcrnrlat=55) #Basemap类有很多属性，这里全都使用默认参数\n",
    "map = Basemap(llcrnrlon = -120, llcrnrlat = 32, urcrnrlon = -115, urcrnrlat=35)\n",
    "# 画图\n",
    "map.drawcoastlines()\n",
    "# 给陆地涂上珊瑚色，湖泊涂上蓝色\n",
    "map.fillcontinents(color = '#cc9966', lake_color = 'aqua')\n",
    "# the continents will be drawn on top.\n",
    "parallels = np.arange(32.,36,1.)\n",
    "# labels = [left,right,top,bottom]\n",
    "map.drawparallels(parallels,labels=[False,True,True,False])\n",
    "meridians = np.arange(-120.,-114.,1.)\n",
    "map.drawmeridians(meridians,labels=[True,False,False,True])\n",
    "# km 2 deg\n",
    "#x1 = 33*10^-6\n",
    "x1 = 33*10**-6/6371/math.pi*180*10**6;\n",
    "\n",
    "#print(x1)\n",
    "plt.arrow(-117, 33, x1, 1,width=0.05,)\n",
    "#map.plot(-116, 33, marker='D',color='m')\n",
    "#map.quiver(-117, 33, 31.2, -10, color='b', width=0.005, scale=400)\n",
    "#map.quiver(-116, 33, 31.2, -10, color='b', width=0.005, scale=400)\n",
    "#plt.text(-120, 20,'scale', weight=\"bold\", color=\"b\")\n",
    "\n",
    "# 显示结果\n",
    "#plt.show()\n",
    "\n",
    "# 存储结果\n",
    "#plt.savefig('test.png')"
   ]
  },
  {
   "cell_type": "code",
   "execution_count": 2,
   "metadata": {},
   "outputs": [],
   "source": [
    "a =1\n"
   ]
  },
  {
   "cell_type": "code",
   "execution_count": 3,
   "metadata": {},
   "outputs": [],
   "source": [
    "b =2"
   ]
  },
  {
   "cell_type": "code",
   "execution_count": 4,
   "metadata": {},
   "outputs": [],
   "source": [
    "c = a + b ;"
   ]
  },
  {
   "cell_type": "code",
   "execution_count": 5,
   "metadata": {},
   "outputs": [
    {
     "name": "stdout",
     "output_type": "stream",
     "text": [
      "3\n"
     ]
    }
   ],
   "source": [
    "print(c)"
   ]
  },
  {
   "cell_type": "code",
   "execution_count": 6,
   "metadata": {},
   "outputs": [],
   "source": [
    "x=np.linspace(0,-2*np.pi,100)"
   ]
  },
  {
   "cell_type": "code",
   "execution_count": 7,
   "metadata": {},
   "outputs": [],
   "source": [
    "import numpy as np"
   ]
  },
  {
   "cell_type": "code",
   "execution_count": 8,
   "metadata": {},
   "outputs": [
    {
     "name": "stdout",
     "output_type": "stream",
     "text": [
      "[ 0.         -0.06346652 -0.12693304 -0.19039955 -0.25386607 -0.31733259\n",
      " -0.38079911 -0.44426563 -0.50773215 -0.57119866 -0.63466518 -0.6981317\n",
      " -0.76159822 -0.82506474 -0.88853126 -0.95199777 -1.01546429 -1.07893081\n",
      " -1.14239733 -1.20586385 -1.26933037 -1.33279688 -1.3962634  -1.45972992\n",
      " -1.52319644 -1.58666296 -1.65012947 -1.71359599 -1.77706251 -1.84052903\n",
      " -1.90399555 -1.96746207 -2.03092858 -2.0943951  -2.15786162 -2.22132814\n",
      " -2.28479466 -2.34826118 -2.41172769 -2.47519421 -2.53866073 -2.60212725\n",
      " -2.66559377 -2.72906028 -2.7925268  -2.85599332 -2.91945984 -2.98292636\n",
      " -3.04639288 -3.10985939 -3.17332591 -3.23679243 -3.30025895 -3.36372547\n",
      " -3.42719199 -3.4906585  -3.55412502 -3.61759154 -3.68105806 -3.74452458\n",
      " -3.8079911  -3.87145761 -3.93492413 -3.99839065 -4.06185717 -4.12532369\n",
      " -4.1887902  -4.25225672 -4.31572324 -4.37918976 -4.44265628 -4.5061228\n",
      " -4.56958931 -4.63305583 -4.69652235 -4.75998887 -4.82345539 -4.88692191\n",
      " -4.95038842 -5.01385494 -5.07732146 -5.14078798 -5.2042545  -5.26772102\n",
      " -5.33118753 -5.39465405 -5.45812057 -5.52158709 -5.58505361 -5.64852012\n",
      " -5.71198664 -5.77545316 -5.83891968 -5.9023862  -5.96585272 -6.02931923\n",
      " -6.09278575 -6.15625227 -6.21971879 -6.28318531]\n"
     ]
    }
   ],
   "source": [
    "x=np.linspace(0,-2*np.pi,100)\n",
    "print(x)"
   ]
  },
  {
   "cell_type": "code",
   "execution_count": 9,
   "metadata": {},
   "outputs": [
    {
     "name": "stdout",
     "output_type": "stream",
     "text": [
      "[0.         1.57079633 3.14159265 4.71238898 6.28318531]\n"
     ]
    }
   ],
   "source": [
    "x=np.linspace(0,2*np.pi,5)\n",
    "print(x)\n"
   ]
  },
  {
   "cell_type": "code",
   "execution_count": 10,
   "metadata": {},
   "outputs": [
    {
     "data": {
      "text/plain": [
       "[<matplotlib.lines.Line2D at 0x7f97cd927400>]"
      ]
     },
     "execution_count": 10,
     "metadata": {},
     "output_type": "execute_result"
    },
    {
     "data": {
      "image/png": "[encoded data removed]",
      "text/plain": [
       "<Figure size 432x288 with 1 Axes>"
      ]
     },
     "metadata": {
      "needs_background": "light"
     },
     "output_type": "display_data"
    }
   ],
   "source": [
    "import matplotlib.pyplot as plt\n",
    "\n",
    "y = np.sin(x);\n",
    "\n",
    "plt.figure()    # 定义一个图像窗口\n",
    "plt.plot(x,y)"
   ]
  },
  {
   "cell_type": "code",
   "execution_count": 11,
   "metadata": {},
   "outputs": [
    {
     "data": {
      "text/plain": [
       "<ufunc 'log10'>"
      ]
     },
     "execution_count": 11,
     "metadata": {},
     "output_type": "execute_result"
    }
   ],
   "source": [
    "np.log10\n",
    "\n",
    "\n",
    "\n",
    "\n",
    "\n"
   ]
  },
  {
   "cell_type": "code",
   "execution_count": 12,
   "metadata": {},
   "outputs": [
    {
     "name": "stdout",
     "output_type": "stream",
     "text": [
      "Help on function arrow in module matplotlib.pyplot:\n",
      "\n",
      "arrow(x, y, dx, dy, **kwargs)\n",
      "    Add an arrow to the axes.\n",
      "    \n",
      "    This draws an arrow from ``(x, y)`` to ``(x+dx, y+dy)``.\n",
      "    \n",
      "    Parameters\n",
      "    ----------\n",
      "    x, y : float\n",
      "        The x and y coordinates of the arrow base.\n",
      "    dx, dy : float\n",
      "        The length of the arrow along x and y direction.\n",
      "    \n",
      "    Returns\n",
      "    -------\n",
      "    arrow : `.FancyArrow`\n",
      "        The created `.FancyArrow` object.\n",
      "    \n",
      "    Other Parameters\n",
      "    ----------------\n",
      "    **kwargs\n",
      "        Optional kwargs (inherited from `.FancyArrow` patch) control the\n",
      "        arrow construction and properties:\n",
      "    \n",
      "    Constructor arguments\n",
      "      *width*: float (default: 0.001)\n",
      "        width of full arrow tail\n",
      "    \n",
      "      *length_includes_head*: bool (default: False)\n",
      "        True if head is to be counted in calculating the length.\n",
      "    \n",
      "      *head_width*: float or None (default: 3*width)\n",
      "        total width of the full arrow head\n",
      "    \n",
      "      *head_length*: float or None (default: 1.5 * head_width)\n",
      "        length of arrow head\n",
      "    \n",
      "      *shape*: ['full', 'left', 'right'] (default: 'full')\n",
      "        draw the left-half, right-half, or full arrow\n",
      "    \n",
      "      *overhang*: float (default: 0)\n",
      "        fraction that the arrow is swept back (0 overhang means\n",
      "        triangular shape). Can be negative or greater than one.\n",
      "    \n",
      "      *head_starts_at_zero*: bool (default: False)\n",
      "        if True, the head starts being drawn at coordinate 0\n",
      "        instead of ending at coordinate 0.\n",
      "    \n",
      "    Other valid kwargs (inherited from :class:`Patch`) are:\n",
      "      agg_filter: a filter function, which takes a (m, n, 3) float array and a dpi value, and returns a (m, n, 3) array\n",
      "      alpha: float or None\n",
      "      animated: bool\n",
      "      antialiased or aa: unknown\n",
      "      capstyle: {'butt', 'round', 'projecting'}\n",
      "      clip_box: `.Bbox`\n",
      "      clip_on: bool\n",
      "      clip_path: [(`~matplotlib.path.Path`, `.Transform`) | `.Patch` | None]\n",
      "      color: color\n",
      "      contains: callable\n",
      "      edgecolor or ec: color or None or 'auto'\n",
      "      facecolor or fc: color or None\n",
      "      figure: `.Figure`\n",
      "      fill: bool\n",
      "      gid: str\n",
      "      hatch: {'/', '\\\\', '|', '-', '+', 'x', 'o', 'O', '.', '*'}\n",
      "      in_layout: bool\n",
      "      joinstyle: {'miter', 'round', 'bevel'}\n",
      "      label: object\n",
      "      linestyle or ls: {'-', '--', '-.', ':', '', (offset, on-off-seq), ...}\n",
      "      linewidth or lw: float or None\n",
      "      path_effects: `.AbstractPathEffect`\n",
      "      picker: None or bool or float or callable\n",
      "      rasterized: bool or None\n",
      "      sketch_params: (scale: float, length: float, randomness: float)\n",
      "      snap: bool or None\n",
      "      transform: `.Transform`\n",
      "      url: str\n",
      "      visible: bool\n",
      "      zorder: float\n",
      "    \n",
      "    Notes\n",
      "    -----\n",
      "    The resulting arrow is affected by the axes aspect ratio and limits.\n",
      "    This may produce an arrow whose head is not square with its stem. To\n",
      "    create an arrow whose head is square with its stem,\n",
      "    use :meth:`annotate` for example:\n",
      "    \n",
      "    >>> ax.annotate(\"\", xy=(0.5, 0.5), xytext=(0, 0),\n",
      "    ...             arrowprops=dict(arrowstyle=\"->\"))\n",
      "\n"
     ]
    }
   ],
   "source": [
    "help(plt.arrow)"
   ]
  },
  {
   "cell_type": "code",
   "execution_count": 13,
   "metadata": {},
   "outputs": [
    {
     "name": "stdout",
     "output_type": "stream",
     "text": [
      "2.9677612995318103e-07\n"
     ]
    }
   ],
   "source": [
    "import math\n",
    "\n",
    "x1 = 33*10**-6/6371/math.pi*180\n",
    "\n",
    "print(x1)"
   ]
  },
  {
   "cell_type": "code",
   "execution_count": 14,
   "metadata": {
    "scrolled": false
   },
   "outputs": [
    {
     "name": "stdout",
     "output_type": "stream",
     "text": [
      "Help on function plot in module matplotlib.pyplot:\n",
      "\n",
      "plot(*args, scalex=True, scaley=True, data=None, **kwargs)\n",
      "    Plot y versus x as lines and/or markers.\n",
      "    \n",
      "    Call signatures::\n",
      "    \n",
      "        plot([x], y, [fmt], *, data=None, **kwargs)\n",
      "        plot([x], y, [fmt], [x2], y2, [fmt2], ..., **kwargs)\n",
      "    \n",
      "    The coordinates of the points or line nodes are given by *x*, *y*.\n",
      "    \n",
      "    The optional parameter *fmt* is a convenient way for defining basic\n",
      "    formatting like color, marker and linestyle. It's a shortcut string\n",
      "    notation described in the *Notes* section below.\n",
      "    \n",
      "    >>> plot(x, y)        # plot x and y using default line style and color\n",
      "    >>> plot(x, y, 'bo')  # plot x and y using blue circle markers\n",
      "    >>> plot(y)           # plot y using x as index array 0..N-1\n",
      "    >>> plot(y, 'r+')     # ditto, but with red plusses\n",
      "    \n",
      "    You can use `.Line2D` properties as keyword arguments for more\n",
      "    control on the appearance. Line properties and *fmt* can be mixed.\n",
      "    The following two calls yield identical results:\n",
      "    \n",
      "    >>> plot(x, y, 'go--', linewidth=2, markersize=12)\n",
      "    >>> plot(x, y, color='green', marker='o', linestyle='dashed',\n",
      "    ...      linewidth=2, markersize=12)\n",
      "    \n",
      "    When conflicting with *fmt*, keyword arguments take precedence.\n",
      "    \n",
      "    \n",
      "    **Plotting labelled data**\n",
      "    \n",
      "    There's a convenient way for plotting objects with labelled data (i.e.\n",
      "    data that can be accessed by index ``obj['y']``). Instead of giving\n",
      "    the data in *x* and *y*, you can provide the object in the *data*\n",
      "    parameter and just give the labels for *x* and *y*::\n",
      "    \n",
      "    >>> plot('xlabel', 'ylabel', data=obj)\n",
      "    \n",
      "    All indexable objects are supported. This could e.g. be a `dict`, a\n",
      "    `pandas.DataFame` or a structured numpy array.\n",
      "    \n",
      "    \n",
      "    **Plotting multiple sets of data**\n",
      "    \n",
      "    There are various ways to plot multiple sets of data.\n",
      "    \n",
      "    - The most straight forward way is just to call `plot` multiple times.\n",
      "      Example:\n",
      "    \n",
      "      >>> plot(x1, y1, 'bo')\n",
      "      >>> plot(x2, y2, 'go')\n",
      "    \n",
      "    - Alternatively, if your data is already a 2d array, you can pass it\n",
      "      directly to *x*, *y*. A separate data set will be drawn for every\n",
      "      column.\n",
      "    \n",
      "      Example: an array ``a`` where the first column represents the *x*\n",
      "      values and the other columns are the *y* columns::\n",
      "    \n",
      "      >>> plot(a[0], a[1:])\n",
      "    \n",
      "    - The third way is to specify multiple sets of *[x]*, *y*, *[fmt]*\n",
      "      groups::\n",
      "    \n",
      "      >>> plot(x1, y1, 'g^', x2, y2, 'g-')\n",
      "    \n",
      "      In this case, any additional keyword argument applies to all\n",
      "      datasets. Also this syntax cannot be combined with the *data*\n",
      "      parameter.\n",
      "    \n",
      "    By default, each line is assigned a different style specified by a\n",
      "    'style cycle'. The *fmt* and line property parameters are only\n",
      "    necessary if you want explicit deviations from these defaults.\n",
      "    Alternatively, you can also change the style cycle using the\n",
      "    'axes.prop_cycle' rcParam.\n",
      "    \n",
      "    \n",
      "    Parameters\n",
      "    ----------\n",
      "    x, y : array-like or scalar\n",
      "        The horizontal / vertical coordinates of the data points.\n",
      "        *x* values are optional and default to `range(len(y))`.\n",
      "    \n",
      "        Commonly, these parameters are 1D arrays.\n",
      "    \n",
      "        They can also be scalars, or two-dimensional (in that case, the\n",
      "        columns represent separate data sets).\n",
      "    \n",
      "        These arguments cannot be passed as keywords.\n",
      "    \n",
      "    fmt : str, optional\n",
      "        A format string, e.g. 'ro' for red circles. See the *Notes*\n",
      "        section for a full description of the format strings.\n",
      "    \n",
      "        Format strings are just an abbreviation for quickly setting\n",
      "        basic line properties. All of these and more can also be\n",
      "        controlled by keyword arguments.\n",
      "    \n",
      "        This argument cannot be passed as keyword.\n",
      "    \n",
      "    data : indexable object, optional\n",
      "        An object with labelled data. If given, provide the label names to\n",
      "        plot in *x* and *y*.\n",
      "    \n",
      "        .. note::\n",
      "            Technically there's a slight ambiguity in calls where the\n",
      "            second label is a valid *fmt*. `plot('n', 'o', data=obj)`\n",
      "            could be `plt(x, y)` or `plt(y, fmt)`. In such cases,\n",
      "            the former interpretation is chosen, but a warning is issued.\n",
      "            You may suppress the warning by adding an empty format string\n",
      "            `plot('n', 'o', '', data=obj)`.\n",
      "    \n",
      "    Other Parameters\n",
      "    ----------------\n",
      "    scalex, scaley : bool, optional, default: True\n",
      "        These parameters determined if the view limits are adapted to\n",
      "        the data limits. The values are passed on to `autoscale_view`.\n",
      "    \n",
      "    **kwargs : `.Line2D` properties, optional\n",
      "        *kwargs* are used to specify properties like a line label (for\n",
      "        auto legends), linewidth, antialiasing, marker face color.\n",
      "        Example::\n",
      "    \n",
      "        >>> plot([1,2,3], [1,2,3], 'go-', label='line 1', linewidth=2)\n",
      "        >>> plot([1,2,3], [1,4,9], 'rs',  label='line 2')\n",
      "    \n",
      "        If you make multiple lines with one plot command, the kwargs\n",
      "        apply to all those lines.\n",
      "    \n",
      "        Here is a list of available `.Line2D` properties:\n",
      "    \n",
      "      agg_filter: a filter function, which takes a (m, n, 3) float array and a dpi value, and returns a (m, n, 3) array\n",
      "      alpha: float\n",
      "      animated: bool\n",
      "      antialiased or aa: bool\n",
      "      clip_box: `.Bbox`\n",
      "      clip_on: bool\n",
      "      clip_path: [(`~matplotlib.path.Path`, `.Transform`) | `.Patch` | None]\n",
      "      color or c: color\n",
      "      contains: callable\n",
      "      dash_capstyle: {'butt', 'round', 'projecting'}\n",
      "      dash_joinstyle: {'miter', 'round', 'bevel'}\n",
      "      dashes: sequence of floats (on/off ink in points) or (None, None)\n",
      "      drawstyle or ds: {'default', 'steps', 'steps-pre', 'steps-mid', 'steps-post'}, default: 'default'\n",
      "      figure: `.Figure`\n",
      "      fillstyle: {'full', 'left', 'right', 'bottom', 'top', 'none'}\n",
      "      gid: str\n",
      "      in_layout: bool\n",
      "      label: object\n",
      "      linestyle or ls: {'-', '--', '-.', ':', '', (offset, on-off-seq), ...}\n",
      "      linewidth or lw: float\n",
      "      marker: marker style\n",
      "      markeredgecolor or mec: color\n",
      "      markeredgewidth or mew: float\n",
      "      markerfacecolor or mfc: color\n",
      "      markerfacecoloralt or mfcalt: color\n",
      "      markersize or ms: float\n",
      "      markevery: None or int or (int, int) or slice or List[int] or float or (float, float)\n",
      "      path_effects: `.AbstractPathEffect`\n",
      "      picker: float or callable[[Artist, Event], Tuple[bool, dict]]\n",
      "      pickradius: float\n",
      "      rasterized: bool or None\n",
      "      sketch_params: (scale: float, length: float, randomness: float)\n",
      "      snap: bool or None\n",
      "      solid_capstyle: {'butt', 'round', 'projecting'}\n",
      "      solid_joinstyle: {'miter', 'round', 'bevel'}\n",
      "      transform: `matplotlib.transforms.Transform`\n",
      "      url: str\n",
      "      visible: bool\n",
      "      xdata: 1D array\n",
      "      ydata: 1D array\n",
      "      zorder: float\n",
      "    \n",
      "    Returns\n",
      "    -------\n",
      "    lines\n",
      "        A list of `.Line2D` objects representing the plotted data.\n",
      "    \n",
      "    See Also\n",
      "    --------\n",
      "    scatter : XY scatter plot with markers of varying size and/or color (\n",
      "        sometimes also called bubble chart).\n",
      "    \n",
      "    Notes\n",
      "    -----\n",
      "    **Format Strings**\n",
      "    \n",
      "    A format string consists of a part for color, marker and line::\n",
      "    \n",
      "        fmt = '[marker][line][color]'\n",
      "    \n",
      "    Each of them is optional. If not provided, the value from the style\n",
      "    cycle is used. Exception: If ``line`` is given, but no ``marker``,\n",
      "    the data will be a line without markers.\n",
      "    \n",
      "    Other combinations such as ``[color][marker][line]`` are also\n",
      "    supported, but note that their parsing may be ambiguous.\n",
      "    \n",
      "    **Markers**\n",
      "    \n",
      "    =============    ===============================\n",
      "    character        description\n",
      "    =============    ===============================\n",
      "    ``'.'``          point marker\n",
      "    ``','``          pixel marker\n",
      "    ``'o'``          circle marker\n",
      "    ``'v'``          triangle_down marker\n",
      "    ``'^'``          triangle_up marker\n",
      "    ``'<'``          triangle_left marker\n",
      "    ``'>'``          triangle_right marker\n",
      "    ``'1'``          tri_down marker\n",
      "    ``'2'``          tri_up marker\n",
      "    ``'3'``          tri_left marker\n",
      "    ``'4'``          tri_right marker\n",
      "    ``'s'``          square marker\n",
      "    ``'p'``          pentagon marker\n",
      "    ``'*'``          star marker\n",
      "    ``'h'``          hexagon1 marker\n",
      "    ``'H'``          hexagon2 marker\n",
      "    ``'+'``          plus marker\n",
      "    ``'x'``          x marker\n",
      "    ``'D'``          diamond marker\n",
      "    ``'d'``          thin_diamond marker\n",
      "    ``'|'``          vline marker\n",
      "    ``'_'``          hline marker\n",
      "    =============    ===============================\n",
      "    \n",
      "    **Line Styles**\n",
      "    \n",
      "    =============    ===============================\n",
      "    character        description\n",
      "    =============    ===============================\n",
      "    ``'-'``          solid line style\n",
      "    ``'--'``         dashed line style\n",
      "    ``'-.'``         dash-dot line style\n",
      "    ``':'``          dotted line style\n",
      "    =============    ===============================\n",
      "    \n",
      "    Example format strings::\n",
      "    \n",
      "        'b'    # blue markers with default shape\n",
      "        'or'   # red circles\n",
      "        '-g'   # green solid line\n",
      "        '--'   # dashed line with default color\n",
      "        '^k:'  # black triangle_up markers connected by a dotted line\n",
      "    \n",
      "    **Colors**\n",
      "    \n",
      "    The supported color abbreviations are the single letter codes\n",
      "    \n",
      "    =============    ===============================\n",
      "    character        color\n",
      "    =============    ===============================\n",
      "    ``'b'``          blue\n",
      "    ``'g'``          green\n",
      "    ``'r'``          red\n",
      "    ``'c'``          cyan\n",
      "    ``'m'``          magenta\n",
      "    ``'y'``          yellow\n",
      "    ``'k'``          black\n",
      "    ``'w'``          white\n",
      "    =============    ===============================\n",
      "    \n",
      "    and the ``'CN'`` colors that index into the default property cycle.\n",
      "    \n",
      "    If the color is the only part of the format string, you can\n",
      "    additionally use any  `matplotlib.colors` spec, e.g. full names\n",
      "    (``'green'``) or hex strings (``'#008000'``).\n",
      "\n"
     ]
    }
   ],
   "source": [
    "import matplotlib.pyplot as plt\n",
    "help(plt.plot)"
   ]
  }
 ],
 "metadata": {
  "hide_input": false,
  "kernelspec": {
   "display_name": "Python 3",
   "language": "python",
   "name": "python3"
  },
  "language_info": {
   "codemirror_mode": {
    "name": "ipython",
    "version": 3
   },
   "file_extension": ".py",
   "mimetype": "text/x-python",
   "name": "python",
   "nbconvert_exporter": "python",
   "pygments_lexer": "ipython3",
   "version": "3.7.3"
  },
  "latex_envs": {
   "LaTeX_envs_menu_present": true,
   "autoclose": false,
   "autocomplete": true,
   "bibliofile": "biblio.bib",
   "cite_by": "apalike",
   "current_citInitial": 1,
   "eqLabelWithNumbers": true,
   "eqNumInitial": 1,
   "hotkeys": {
    "equation": "Ctrl-E",
    "itemize": "Ctrl-I"
   },
   "labels_anchors": false,
   "latex_user_defs": false,
   "report_style_numbering": false,
   "user_envs_cfg": false
  },
  "toc": {
   "base_numbering": 1,
   "nav_menu": {},
   "number_sections": true,
   "sideBar": true,
   "skip_h1_title": false,
   "title_cell": "Table of Contents",
   "title_sidebar": "Contents",
   "toc_cell": false,
   "toc_position": {},
   "toc_section_display": true,
   "toc_window_display": false
  },
  "varInspector": {
   "cols": {
    "lenName": 16,
    "lenType": 16,
    "lenVar": 40
   },
   "kernels_config": {
    "python": {
     "delete_cmd_postfix": "",
     "delete_cmd_prefix": "del ",
     "library": "var_list.py",
     "varRefreshCmd": "print(var_dic_list())"
    },
    "r": {
     "delete_cmd_postfix": ") ",
     "delete_cmd_prefix": "rm(",
     "library": "var_list.r",
     "varRefreshCmd": "cat(var_dic_list()) "
    }
   },
   "types_to_exclude": [
    "module",
    "function",
    "builtin_function_or_method",
    "instance",
    "_Feature"
   ],
   "window_display": false
  }
 },
 "nbformat": 4,
 "nbformat_minor": 4
}
